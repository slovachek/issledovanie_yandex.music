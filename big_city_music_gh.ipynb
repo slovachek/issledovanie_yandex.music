{
 "cells": [
  {
   "cell_type": "markdown",
   "metadata": {
    "id": "E0vqbgi9ay0H"
   },
   "source": [
    "# Яндекс.Музыка"
   ]
  },
  {
   "cell_type": "markdown",
   "metadata": {
    "id": "VUC88oWjTJw2"
   },
   "source": [
    "Сравнение Москвы и Петербурга окружено мифами. Например:\n",
    " * Москва — мегаполис, подчинённый жёсткому ритму рабочей недели;\n",
    " * Петербург — культурная столица, со своими вкусами.\n",
    "\n",
    "На данных Яндекс.Музыки вы сравните поведение пользователей двух столиц.\n",
    "\n",
    "**Цель исследования** — проверьте три гипотезы:\n",
    "1. Активность пользователей зависит от дня недели. Причём в Москве и Петербурге это проявляется по-разному.\n",
    "2. В понедельник утром в Москве преобладают одни жанры, а в Петербурге — другие. Так же и вечером пятницы преобладают разные жанры — в зависимости от города. \n",
    "3. Москва и Петербург предпочитают разные жанры музыки. В Москве чаще слушают поп-музыку, в Петербурге — русский рэп.\n",
    "\n",
    "**Ход исследования**\n",
    "\n",
    "Данные о поведении пользователей вы получите из файла `yandex_music_project.csv`. О качестве данных ничего не известно. Поэтому перед проверкой гипотез понадобится обзор данных. \n",
    "\n",
    "Вы проверите данные на ошибки и оцените их влияние на исследование. Затем, на этапе предобработки вы поищете возможность исправить самые критичные ошибки данных.\n",
    " \n",
    "Таким образом, исследование пройдёт в три этапа:\n",
    " 1. Обзор данных.\n",
    " 2. Предобработка данных.\n",
    " 3. Проверка гипотез.\n",
    "\n"
   ]
  },
  {
   "cell_type": "markdown",
   "metadata": {
    "id": "Ml1hmfXC_Zcs"
   },
   "source": [
    "## Обзор данных\n",
    "\n",
    "Составим первое представление о данных Яндекс.Музыки.\n",
    "\n",
    "\n"
   ]
  },
  {
   "cell_type": "code",
   "execution_count": 1,
   "metadata": {
    "id": "AXN7PHPN_Zcs"
   },
   "outputs": [],
   "source": [
    "# импорт библиотеки pandas\n",
    "import pandas as pd"
   ]
  },
  {
   "cell_type": "code",
   "execution_count": 2,
   "metadata": {
    "id": "fFVu7vqh_Zct"
   },
   "outputs": [],
   "source": [
    "# чтение файла с данными и сохранение в df\n",
    "df = pd.read_csv('/datasets/yandex_music_project.csv')"
   ]
  },
  {
   "cell_type": "code",
   "execution_count": 3,
   "metadata": {
    "id": "oWTVX3gW_Zct"
   },
   "outputs": [
    {
     "data": {
      "text/html": [
       "<div>\n",
       "<style scoped>\n",
       "    .dataframe tbody tr th:only-of-type {\n",
       "        vertical-align: middle;\n",
       "    }\n",
       "\n",
       "    .dataframe tbody tr th {\n",
       "        vertical-align: top;\n",
       "    }\n",
       "\n",
       "    .dataframe thead th {\n",
       "        text-align: right;\n",
       "    }\n",
       "</style>\n",
       "<table border=\"1\" class=\"dataframe\">\n",
       "  <thead>\n",
       "    <tr style=\"text-align: right;\">\n",
       "      <th></th>\n",
       "      <th>userID</th>\n",
       "      <th>Track</th>\n",
       "      <th>artist</th>\n",
       "      <th>genre</th>\n",
       "      <th>City</th>\n",
       "      <th>time</th>\n",
       "      <th>Day</th>\n",
       "    </tr>\n",
       "  </thead>\n",
       "  <tbody>\n",
       "    <tr>\n",
       "      <th>0</th>\n",
       "      <td>FFB692EC</td>\n",
       "      <td>Kamigata To Boots</td>\n",
       "      <td>The Mass Missile</td>\n",
       "      <td>rock</td>\n",
       "      <td>Saint-Petersburg</td>\n",
       "      <td>20:28:33</td>\n",
       "      <td>Wednesday</td>\n",
       "    </tr>\n",
       "    <tr>\n",
       "      <th>1</th>\n",
       "      <td>55204538</td>\n",
       "      <td>Delayed Because of Accident</td>\n",
       "      <td>Andreas Rönnberg</td>\n",
       "      <td>rock</td>\n",
       "      <td>Moscow</td>\n",
       "      <td>14:07:09</td>\n",
       "      <td>Friday</td>\n",
       "    </tr>\n",
       "    <tr>\n",
       "      <th>2</th>\n",
       "      <td>20EC38</td>\n",
       "      <td>Funiculì funiculà</td>\n",
       "      <td>Mario Lanza</td>\n",
       "      <td>pop</td>\n",
       "      <td>Saint-Petersburg</td>\n",
       "      <td>20:58:07</td>\n",
       "      <td>Wednesday</td>\n",
       "    </tr>\n",
       "    <tr>\n",
       "      <th>3</th>\n",
       "      <td>A3DD03C9</td>\n",
       "      <td>Dragons in the Sunset</td>\n",
       "      <td>Fire + Ice</td>\n",
       "      <td>folk</td>\n",
       "      <td>Saint-Petersburg</td>\n",
       "      <td>08:37:09</td>\n",
       "      <td>Monday</td>\n",
       "    </tr>\n",
       "    <tr>\n",
       "      <th>4</th>\n",
       "      <td>E2DC1FAE</td>\n",
       "      <td>Soul People</td>\n",
       "      <td>Space Echo</td>\n",
       "      <td>dance</td>\n",
       "      <td>Moscow</td>\n",
       "      <td>08:34:34</td>\n",
       "      <td>Monday</td>\n",
       "    </tr>\n",
       "    <tr>\n",
       "      <th>5</th>\n",
       "      <td>842029A1</td>\n",
       "      <td>Преданная</td>\n",
       "      <td>IMPERVTOR</td>\n",
       "      <td>rusrap</td>\n",
       "      <td>Saint-Petersburg</td>\n",
       "      <td>13:09:41</td>\n",
       "      <td>Friday</td>\n",
       "    </tr>\n",
       "    <tr>\n",
       "      <th>6</th>\n",
       "      <td>4CB90AA5</td>\n",
       "      <td>True</td>\n",
       "      <td>Roman Messer</td>\n",
       "      <td>dance</td>\n",
       "      <td>Moscow</td>\n",
       "      <td>13:00:07</td>\n",
       "      <td>Wednesday</td>\n",
       "    </tr>\n",
       "    <tr>\n",
       "      <th>7</th>\n",
       "      <td>F03E1C1F</td>\n",
       "      <td>Feeling This Way</td>\n",
       "      <td>Polina Griffith</td>\n",
       "      <td>dance</td>\n",
       "      <td>Moscow</td>\n",
       "      <td>20:47:49</td>\n",
       "      <td>Wednesday</td>\n",
       "    </tr>\n",
       "    <tr>\n",
       "      <th>8</th>\n",
       "      <td>8FA1D3BE</td>\n",
       "      <td>И вновь продолжается бой</td>\n",
       "      <td>NaN</td>\n",
       "      <td>ruspop</td>\n",
       "      <td>Moscow</td>\n",
       "      <td>09:17:40</td>\n",
       "      <td>Friday</td>\n",
       "    </tr>\n",
       "    <tr>\n",
       "      <th>9</th>\n",
       "      <td>E772D5C0</td>\n",
       "      <td>Pessimist</td>\n",
       "      <td>NaN</td>\n",
       "      <td>dance</td>\n",
       "      <td>Saint-Petersburg</td>\n",
       "      <td>21:20:49</td>\n",
       "      <td>Wednesday</td>\n",
       "    </tr>\n",
       "  </tbody>\n",
       "</table>\n",
       "</div>"
      ],
      "text/plain": [
       "     userID                        Track            artist   genre  \\\n",
       "0  FFB692EC            Kamigata To Boots  The Mass Missile    rock   \n",
       "1  55204538  Delayed Because of Accident  Andreas Rönnberg    rock   \n",
       "2    20EC38            Funiculì funiculà       Mario Lanza     pop   \n",
       "3  A3DD03C9        Dragons in the Sunset        Fire + Ice    folk   \n",
       "4  E2DC1FAE                  Soul People        Space Echo   dance   \n",
       "5  842029A1                    Преданная         IMPERVTOR  rusrap   \n",
       "6  4CB90AA5                         True      Roman Messer   dance   \n",
       "7  F03E1C1F             Feeling This Way   Polina Griffith   dance   \n",
       "8  8FA1D3BE     И вновь продолжается бой               NaN  ruspop   \n",
       "9  E772D5C0                    Pessimist               NaN   dance   \n",
       "\n",
       "             City        time        Day  \n",
       "0  Saint-Petersburg  20:28:33  Wednesday  \n",
       "1            Moscow  14:07:09     Friday  \n",
       "2  Saint-Petersburg  20:58:07  Wednesday  \n",
       "3  Saint-Petersburg  08:37:09     Monday  \n",
       "4            Moscow  08:34:34     Monday  \n",
       "5  Saint-Petersburg  13:09:41     Friday  \n",
       "6            Moscow  13:00:07  Wednesday  \n",
       "7            Moscow  20:47:49  Wednesday  \n",
       "8            Moscow  09:17:40     Friday  \n",
       "9  Saint-Petersburg  21:20:49  Wednesday  "
      ]
     },
     "metadata": {},
     "output_type": "display_data"
    }
   ],
   "source": [
    "# получение первых 10 строк таблицы df\n",
    "display(df.head(10))"
   ]
  },
  {
   "cell_type": "code",
   "execution_count": 5,
   "metadata": {
    "id": "DSf2kIb-_Zct"
   },
   "outputs": [
    {
     "name": "stdout",
     "output_type": "stream",
     "text": [
      "<class 'pandas.core.frame.DataFrame'>\n",
      "RangeIndex: 65079 entries, 0 to 65078\n",
      "Data columns (total 7 columns):\n",
      " #   Column    Non-Null Count  Dtype \n",
      "---  ------    --------------  ----- \n",
      " 0     userID  65079 non-null  object\n",
      " 1   Track     63848 non-null  object\n",
      " 2   artist    57876 non-null  object\n",
      " 3   genre     63881 non-null  object\n",
      " 4     City    65079 non-null  object\n",
      " 5   time      65079 non-null  object\n",
      " 6   Day       65079 non-null  object\n",
      "dtypes: object(7)\n",
      "memory usage: 3.5+ MB\n"
     ]
    }
   ],
   "source": [
    "# получение общей информации о данных в таблице df\n",
    "df.info()"
   ]
  },
  {
   "cell_type": "markdown",
   "metadata": {
    "id": "TaQ2Iwbr_Zct"
   },
   "source": [
    "Итак, в таблице семь столбцов. Тип данных во всех столбцах — `object`.\n",
    "\n",
    "Согласно документации к данным:\n",
    "* `userID` — идентификатор пользователя;\n",
    "* `Track` — название трека;  \n",
    "* `artist` — имя исполнителя;\n",
    "* `genre` — название жанра;\n",
    "* `City` — город пользователя;\n",
    "* `time` — время начала прослушивания;\n",
    "* `Day` — день недели.\n",
    "\n",
    "В названиях колонок видны три нарушения стиля:\n",
    "1. Строчные буквы сочетаются с прописными.\n",
    "2. Встречаются пробелы.\n",
    "3. Найдите ещё одну проблему в названии колонок и опишите её в этом пункте.\n",
    "не используется \"змеиный регистр\" в названии колонки 'userID'\n",
    "\n",
    "\n",
    "Количество значений в столбцах различается. Значит, в данных есть пропущенные значения.\n"
   ]
  },
  {
   "cell_type": "markdown",
   "metadata": {
    "id": "MCB6-dXG_Zct"
   },
   "source": [
    "**Выводы**\n",
    "\n",
    "В каждой строке таблицы — данные о прослушанном треке. Часть колонок описывает саму композицию: название, исполнителя и жанр. Остальные данные рассказывают о пользователе: из какого он города, когда он слушал музыку. \n",
    "\n",
    "Предварительно можно утверждать, что, данных достаточно для проверки гипотез. Но встречаются пропуски в данных, а в названиях колонок — расхождения с хорошим стилем.\n",
    "\n",
    "Чтобы двигаться дальше, нужно устранить проблемы в данных."
   ]
  },
  {
   "cell_type": "markdown",
   "metadata": {
    "id": "SjYF6Ub9_Zct"
   },
   "source": [
    "## Предобработка данных\n",
    "Исправим стиль в заголовках столбцов, исключиим пропуски. Затем проверим данные на дубликаты."
   ]
  },
  {
   "cell_type": "markdown",
   "metadata": {
    "id": "dIaKXr29_Zct"
   },
   "source": [
    "### Стиль заголовков\n",
    "Выведем на экран названия столбцов:"
   ]
  },
  {
   "cell_type": "code",
   "execution_count": 6,
   "metadata": {
    "id": "oKOTdF_Q_Zct"
   },
   "outputs": [
    {
     "name": "stdout",
     "output_type": "stream",
     "text": [
      "Index(['  userID', 'Track', 'artist', 'genre', '  City  ', 'time', 'Day'], dtype='object')\n"
     ]
    }
   ],
   "source": [
    "# перечень названий столбцов таблицы df\n",
    "print(df.columns)"
   ]
  },
  {
   "cell_type": "markdown",
   "metadata": {
    "id": "zj5534cv_Zct"
   },
   "source": [
    "Приведем названия в соответствие с хорошим стилем:\n",
    "* несколько слов в названии запишите в «змеином_регистре»,\n",
    "* все символы сделайте строчными,\n",
    "* устраните пробелы.\n",
    "\n",
    "Для этого переименуем колонки так:\n",
    "* `'  userID'` → `'user_id'`;\n",
    "* `'Track'` → `'track'`;\n",
    "* `'  City  '` → `'city'`;\n",
    "* `'Day'` → `'day'`."
   ]
  },
  {
   "cell_type": "code",
   "execution_count": 7,
   "metadata": {
    "id": "ISlFqs5y_Zct"
   },
   "outputs": [],
   "source": [
    "# переименование столбцов\n",
    "df = df.rename(\n",
    "    columns={\n",
    "        '  userID':'user_id',\n",
    "        'Track':'track',\n",
    "        '  City  ':'city',\n",
    "        'Day':'day'\n",
    "    }\n",
    ")"
   ]
  },
  {
   "cell_type": "markdown",
   "metadata": {
    "id": "1dqbh00J_Zct"
   },
   "source": [
    "Проверим результат. Для этого ещё раз выведем на экран названия столбцов:"
   ]
  },
  {
   "cell_type": "code",
   "execution_count": 8,
   "metadata": {
    "id": "d4NOAmTW_Zct"
   },
   "outputs": [
    {
     "name": "stdout",
     "output_type": "stream",
     "text": [
      "Index(['user_id', 'track', 'artist', 'genre', 'city', 'time', 'day'], dtype='object')\n"
     ]
    }
   ],
   "source": [
    "# проверка результатов - перечень названий столбцов\n",
    "print(df.columns)"
   ]
  },
  {
   "cell_type": "markdown",
   "metadata": {
    "id": "5ISfbcfY_Zct"
   },
   "source": [
    "### Пропуски значений\n",
    "Сначала посчитаем, сколько в таблице пропущенных значений. Для этого достаточно двух методов `pandas`:"
   ]
  },
  {
   "cell_type": "code",
   "execution_count": 9,
   "metadata": {
    "id": "RskX29qr_Zct"
   },
   "outputs": [
    {
     "data": {
      "text/plain": [
       "user_id       0\n",
       "track      1231\n",
       "artist     7203\n",
       "genre      1198\n",
       "city          0\n",
       "time          0\n",
       "day           0\n",
       "dtype: int64"
      ]
     },
     "execution_count": 9,
     "metadata": {},
     "output_type": "execute_result"
    }
   ],
   "source": [
    "# подсчёт пропусков\n",
    "df.isna().sum()"
   ]
  },
  {
   "cell_type": "markdown",
   "metadata": {
    "id": "qubhgnlO_Zct"
   },
   "source": [
    "Не все пропущенные значения влияют на исследование. Так в `track` и `artist` пропуски не важны для вашей работы. Достаточно заменить их явными обозначениями.\n",
    "\n",
    "Но пропуски в `genre` могут помешать сравнению музыкальных вкусов в Москве и Санкт-Петербурге. На практике было бы правильно установить причину пропусков и восстановить данные. Такой возможности нет в учебном проекте. Придётся:\n",
    "* заполнить и эти пропуски явными обозначениями,\n",
    "* оценить, насколько они повредят расчётам. "
   ]
  },
  {
   "cell_type": "markdown",
   "metadata": {
    "id": "fSv2laPA_Zct"
   },
   "source": [
    "Заменим пропущенные значения в столбцах `track`, `artist` и `genre` на строку `'unknown'`. Для этого создадим список `columns_to_replace`, переберем его элементы циклом `for` и для каждого столбца выполним замену пропущенных значений:"
   ]
  },
  {
   "cell_type": "code",
   "execution_count": 10,
   "metadata": {
    "id": "KplB5qWs_Zct"
   },
   "outputs": [],
   "source": [
    "# перебор названий столбцов в цикле и замена пропущенных значений на 'unknown'\n",
    "columns_to_replace = ['track', 'artist', 'genre']\n",
    "for column in columns_to_replace:\n",
    "    df[column] = df[column].fillna('unknown')"
   ]
  },
  {
   "cell_type": "markdown",
   "metadata": {
    "id": "Ilsm-MZo_Zct"
   },
   "source": [
    "Убедимся, что в таблице не осталось пропусков. Для этого ещё раз посчитаем пропущенные значения."
   ]
  },
  {
   "cell_type": "code",
   "execution_count": 11,
   "metadata": {
    "id": "Tq4nYRX4_Zct"
   },
   "outputs": [
    {
     "data": {
      "text/plain": [
       "user_id    0\n",
       "track      0\n",
       "artist     0\n",
       "genre      0\n",
       "city       0\n",
       "time       0\n",
       "day        0\n",
       "dtype: int64"
      ]
     },
     "execution_count": 11,
     "metadata": {},
     "output_type": "execute_result"
    }
   ],
   "source": [
    "# подсчёт пропусков\n",
    "df.isna().sum()"
   ]
  },
  {
   "cell_type": "markdown",
   "metadata": {
    "id": "BWKRtBJ3_Zct"
   },
   "source": [
    "### Дубликаты\n",
    "Посчитаем явные дубликаты в таблице одной командой:"
   ]
  },
  {
   "cell_type": "code",
   "execution_count": 12,
   "metadata": {
    "id": "36eES_S0_Zct"
   },
   "outputs": [
    {
     "data": {
      "text/plain": [
       "3826"
      ]
     },
     "execution_count": 12,
     "metadata": {},
     "output_type": "execute_result"
    }
   ],
   "source": [
    "# подсчёт явных дубликатов\n",
    "df.duplicated().sum()"
   ]
  },
  {
   "cell_type": "markdown",
   "metadata": {
    "id": "Ot25h6XR_Zct"
   },
   "source": [
    "Вызовем специальный метод `pandas`, чтобы удалить явные дубликаты:"
   ]
  },
  {
   "cell_type": "code",
   "execution_count": 13,
   "metadata": {
    "id": "exFHq6tt_Zct"
   },
   "outputs": [],
   "source": [
    "# удаление явных дубликатов (с удалением старых индексов и формированием новых)\n",
    "df = df.drop_duplicates().reset_index(drop=True)"
   ]
  },
  {
   "cell_type": "markdown",
   "metadata": {
    "id": "Im2YwBEG_Zct"
   },
   "source": [
    "Ещё раз посчитаем явные дубликаты в таблице — убедимся, что полностью от них избавились:"
   ]
  },
  {
   "cell_type": "code",
   "execution_count": 14,
   "metadata": {
    "id": "-8PuNWQ0_Zct"
   },
   "outputs": [
    {
     "data": {
      "text/plain": [
       "0"
      ]
     },
     "execution_count": 14,
     "metadata": {},
     "output_type": "execute_result"
    }
   ],
   "source": [
    "# проверка на отсутствие дубликатов\n",
    "df.duplicated().sum()"
   ]
  },
  {
   "cell_type": "markdown",
   "metadata": {
    "id": "QlFBsxAr_Zct"
   },
   "source": [
    "Теперь избавимся от неявных дубликатов в колонке `genre`. Например, название одного и того же жанра может быть записано немного по-разному. Такие ошибки тоже повлияют на результат исследования."
   ]
  },
  {
   "cell_type": "markdown",
   "metadata": {
    "id": "eSjWwsOh_Zct"
   },
   "source": [
    "Выведем на экран список уникальных названий жанров, отсортированный в алфавитном порядке. Для этого:\n",
    "* извлекем нужный столбец датафрейма, \n",
    "* применим к нему метод сортировки,\n",
    "* для отсортированного столбца вызовем метод, который вернёт уникальные значения из столбца."
   ]
  },
  {
   "cell_type": "code",
   "execution_count": 15,
   "metadata": {
    "id": "JIUcqzZN_Zct"
   },
   "outputs": [
    {
     "data": {
      "text/plain": [
       "array(['acid', 'acoustic', 'action', 'adult', 'africa', 'afrikaans',\n",
       "       'alternative', 'alternativepunk', 'ambient', 'americana',\n",
       "       'animated', 'anime', 'arabesk', 'arabic', 'arena',\n",
       "       'argentinetango', 'art', 'audiobook', 'author', 'avantgarde',\n",
       "       'axé', 'baile', 'balkan', 'beats', 'bigroom', 'black', 'bluegrass',\n",
       "       'blues', 'bollywood', 'bossa', 'brazilian', 'breakbeat', 'breaks',\n",
       "       'broadway', 'cantautori', 'cantopop', 'canzone', 'caribbean',\n",
       "       'caucasian', 'celtic', 'chamber', 'chanson', 'children', 'chill',\n",
       "       'chinese', 'choral', 'christian', 'christmas', 'classical',\n",
       "       'classicmetal', 'club', 'colombian', 'comedy', 'conjazz',\n",
       "       'contemporary', 'country', 'cuban', 'dance', 'dancehall',\n",
       "       'dancepop', 'dark', 'death', 'deep', 'deutschrock', 'deutschspr',\n",
       "       'dirty', 'disco', 'dnb', 'documentary', 'downbeat', 'downtempo',\n",
       "       'drum', 'dub', 'dubstep', 'eastern', 'easy', 'electronic',\n",
       "       'electropop', 'emo', 'entehno', 'epicmetal', 'estrada', 'ethnic',\n",
       "       'eurofolk', 'european', 'experimental', 'extrememetal', 'fado',\n",
       "       'fairytail', 'film', 'fitness', 'flamenco', 'folk', 'folklore',\n",
       "       'folkmetal', 'folkrock', 'folktronica', 'forró', 'frankreich',\n",
       "       'französisch', 'french', 'funk', 'future', 'gangsta', 'garage',\n",
       "       'german', 'ghazal', 'gitarre', 'glitch', 'gospel', 'gothic',\n",
       "       'grime', 'grunge', 'gypsy', 'handsup', \"hard'n'heavy\", 'hardcore',\n",
       "       'hardstyle', 'hardtechno', 'hip', 'hip-hop', 'hiphop',\n",
       "       'historisch', 'holiday', 'hop', 'horror', 'house', 'hymn', 'idm',\n",
       "       'independent', 'indian', 'indie', 'indipop', 'industrial',\n",
       "       'inspirational', 'instrumental', 'international', 'irish', 'jam',\n",
       "       'japanese', 'jazz', 'jewish', 'jpop', 'jungle', 'k-pop',\n",
       "       'karadeniz', 'karaoke', 'kayokyoku', 'korean', 'laiko', 'latin',\n",
       "       'latino', 'leftfield', 'local', 'lounge', 'loungeelectronic',\n",
       "       'lovers', 'malaysian', 'mandopop', 'marschmusik', 'meditative',\n",
       "       'mediterranean', 'melodic', 'metal', 'metalcore', 'mexican',\n",
       "       'middle', 'minimal', 'miscellaneous', 'modern', 'mood', 'mpb',\n",
       "       'muslim', 'native', 'neoklassik', 'neue', 'new', 'newage',\n",
       "       'newwave', 'nu', 'nujazz', 'numetal', 'oceania', 'old', 'opera',\n",
       "       'orchestral', 'other', 'piano', 'podcasts', 'pop', 'popdance',\n",
       "       'popelectronic', 'popeurodance', 'poprussian', 'post',\n",
       "       'posthardcore', 'postrock', 'power', 'progmetal', 'progressive',\n",
       "       'psychedelic', 'punjabi', 'punk', 'quebecois', 'ragga', 'ram',\n",
       "       'rancheras', 'rap', 'rave', 'reggae', 'reggaeton', 'regional',\n",
       "       'relax', 'religious', 'retro', 'rhythm', 'rnb', 'rnr', 'rock',\n",
       "       'rockabilly', 'rockalternative', 'rockindie', 'rockother',\n",
       "       'romance', 'roots', 'ruspop', 'rusrap', 'rusrock', 'russian',\n",
       "       'salsa', 'samba', 'scenic', 'schlager', 'self', 'sertanejo',\n",
       "       'shanson', 'shoegazing', 'showtunes', 'singer', 'ska', 'skarock',\n",
       "       'slow', 'smooth', 'soft', 'soul', 'soulful', 'sound', 'soundtrack',\n",
       "       'southern', 'specialty', 'speech', 'spiritual', 'sport',\n",
       "       'stonerrock', 'surf', 'swing', 'synthpop', 'synthrock',\n",
       "       'sängerportrait', 'tango', 'tanzorchester', 'taraftar', 'tatar',\n",
       "       'tech', 'techno', 'teen', 'thrash', 'top', 'traditional',\n",
       "       'tradjazz', 'trance', 'tribal', 'trip', 'triphop', 'tropical',\n",
       "       'türk', 'türkçe', 'ukrrock', 'unknown', 'urban', 'uzbek',\n",
       "       'variété', 'vi', 'videogame', 'vocal', 'western', 'world',\n",
       "       'worldbeat', 'ïîï', 'электроника'], dtype=object)"
      ]
     },
     "metadata": {},
     "output_type": "display_data"
    }
   ],
   "source": [
    "# Просмотр уникальных названий жанров\n",
    "display(df['genre'].sort_values().unique())"
   ]
  },
  {
   "cell_type": "markdown",
   "metadata": {
    "id": "qej-Qmuo_Zct"
   },
   "source": [
    "Просмотрим список и найдем неявные дубликаты названия `hiphop`. Это могут быть названия с ошибками или альтернативные названия того же жанра.\n",
    "\n",
    "Видим следующие неявные дубликаты:\n",
    "* *hip*,\n",
    "* *hop*,\n",
    "* *hip-hop*.\n",
    "\n",
    "Чтобы очистить от них таблицу, напишем функцию `replace_wrong_genres()` с двумя параметрами: \n",
    "* `wrong_genres` — список дубликатов,\n",
    "* `correct_genre` — строка с правильным значением.\n",
    "\n",
    "Функция должна исправить колонку `genre` в таблице `df`: заменить каждое значение из списка `wrong_genres` на значение из `correct_genre`."
   ]
  },
  {
   "cell_type": "code",
   "execution_count": 16,
   "metadata": {
    "id": "ErNDkmns_Zct"
   },
   "outputs": [],
   "source": [
    "# Функция для замены неявных дубликатов\n",
    "def replace_wrong_genres(wrong_genres, correct_genre):\n",
    "    for wrong in wrong_genres:\n",
    "        df['genre'] = df['genre'].replace(wrong, correct_genre)"
   ]
  },
  {
   "cell_type": "markdown",
   "metadata": {
    "id": "aDoBJxbA_Zct"
   },
   "source": [
    "Вызовем `replace_wrong_genres()` и передадим ей такие аргументы, чтобы она устранила неявные дубликаты: вместо `hip`, `hop` и `hip-hop` в таблице должно быть значение `hiphop`:"
   ]
  },
  {
   "cell_type": "code",
   "execution_count": 17,
   "metadata": {
    "id": "YN5i2hpmSo09"
   },
   "outputs": [],
   "source": [
    "# Устранение неявных дубликатов\n",
    "wrong = ['hip', 'hop', 'hip-hop']\n",
    "correct = 'hiphop'\n",
    "replace_wrong_genres(wrong, correct)"
   ]
  },
  {
   "cell_type": "markdown",
   "metadata": {
    "id": "zQKF16_RG15m"
   },
   "source": [
    "Проверим, что заменили неправильные названия:\n",
    "\n",
    "*   hip\n",
    "*   hop\n",
    "*   hip-hop\n",
    "\n",
    "Выведем отсортированный список уникальных значений столбца `genre`:"
   ]
  },
  {
   "cell_type": "code",
   "execution_count": 18,
   "metadata": {
    "id": "wvixALnFG15m"
   },
   "outputs": [
    {
     "data": {
      "text/plain": [
       "array(['acid', 'acoustic', 'action', 'adult', 'africa', 'afrikaans',\n",
       "       'alternative', 'alternativepunk', 'ambient', 'americana',\n",
       "       'animated', 'anime', 'arabesk', 'arabic', 'arena',\n",
       "       'argentinetango', 'art', 'audiobook', 'author', 'avantgarde',\n",
       "       'axé', 'baile', 'balkan', 'beats', 'bigroom', 'black', 'bluegrass',\n",
       "       'blues', 'bollywood', 'bossa', 'brazilian', 'breakbeat', 'breaks',\n",
       "       'broadway', 'cantautori', 'cantopop', 'canzone', 'caribbean',\n",
       "       'caucasian', 'celtic', 'chamber', 'chanson', 'children', 'chill',\n",
       "       'chinese', 'choral', 'christian', 'christmas', 'classical',\n",
       "       'classicmetal', 'club', 'colombian', 'comedy', 'conjazz',\n",
       "       'contemporary', 'country', 'cuban', 'dance', 'dancehall',\n",
       "       'dancepop', 'dark', 'death', 'deep', 'deutschrock', 'deutschspr',\n",
       "       'dirty', 'disco', 'dnb', 'documentary', 'downbeat', 'downtempo',\n",
       "       'drum', 'dub', 'dubstep', 'eastern', 'easy', 'electronic',\n",
       "       'electropop', 'emo', 'entehno', 'epicmetal', 'estrada', 'ethnic',\n",
       "       'eurofolk', 'european', 'experimental', 'extrememetal', 'fado',\n",
       "       'fairytail', 'film', 'fitness', 'flamenco', 'folk', 'folklore',\n",
       "       'folkmetal', 'folkrock', 'folktronica', 'forró', 'frankreich',\n",
       "       'französisch', 'french', 'funk', 'future', 'gangsta', 'garage',\n",
       "       'german', 'ghazal', 'gitarre', 'glitch', 'gospel', 'gothic',\n",
       "       'grime', 'grunge', 'gypsy', 'handsup', \"hard'n'heavy\", 'hardcore',\n",
       "       'hardstyle', 'hardtechno', 'hiphop', 'historisch', 'holiday',\n",
       "       'horror', 'house', 'hymn', 'idm', 'independent', 'indian', 'indie',\n",
       "       'indipop', 'industrial', 'inspirational', 'instrumental',\n",
       "       'international', 'irish', 'jam', 'japanese', 'jazz', 'jewish',\n",
       "       'jpop', 'jungle', 'k-pop', 'karadeniz', 'karaoke', 'kayokyoku',\n",
       "       'korean', 'laiko', 'latin', 'latino', 'leftfield', 'local',\n",
       "       'lounge', 'loungeelectronic', 'lovers', 'malaysian', 'mandopop',\n",
       "       'marschmusik', 'meditative', 'mediterranean', 'melodic', 'metal',\n",
       "       'metalcore', 'mexican', 'middle', 'minimal', 'miscellaneous',\n",
       "       'modern', 'mood', 'mpb', 'muslim', 'native', 'neoklassik', 'neue',\n",
       "       'new', 'newage', 'newwave', 'nu', 'nujazz', 'numetal', 'oceania',\n",
       "       'old', 'opera', 'orchestral', 'other', 'piano', 'podcasts', 'pop',\n",
       "       'popdance', 'popelectronic', 'popeurodance', 'poprussian', 'post',\n",
       "       'posthardcore', 'postrock', 'power', 'progmetal', 'progressive',\n",
       "       'psychedelic', 'punjabi', 'punk', 'quebecois', 'ragga', 'ram',\n",
       "       'rancheras', 'rap', 'rave', 'reggae', 'reggaeton', 'regional',\n",
       "       'relax', 'religious', 'retro', 'rhythm', 'rnb', 'rnr', 'rock',\n",
       "       'rockabilly', 'rockalternative', 'rockindie', 'rockother',\n",
       "       'romance', 'roots', 'ruspop', 'rusrap', 'rusrock', 'russian',\n",
       "       'salsa', 'samba', 'scenic', 'schlager', 'self', 'sertanejo',\n",
       "       'shanson', 'shoegazing', 'showtunes', 'singer', 'ska', 'skarock',\n",
       "       'slow', 'smooth', 'soft', 'soul', 'soulful', 'sound', 'soundtrack',\n",
       "       'southern', 'specialty', 'speech', 'spiritual', 'sport',\n",
       "       'stonerrock', 'surf', 'swing', 'synthpop', 'synthrock',\n",
       "       'sängerportrait', 'tango', 'tanzorchester', 'taraftar', 'tatar',\n",
       "       'tech', 'techno', 'teen', 'thrash', 'top', 'traditional',\n",
       "       'tradjazz', 'trance', 'tribal', 'trip', 'triphop', 'tropical',\n",
       "       'türk', 'türkçe', 'ukrrock', 'unknown', 'urban', 'uzbek',\n",
       "       'variété', 'vi', 'videogame', 'vocal', 'western', 'world',\n",
       "       'worldbeat', 'ïîï', 'электроника'], dtype=object)"
      ]
     },
     "metadata": {},
     "output_type": "display_data"
    }
   ],
   "source": [
    "# Проверка на неявные дубликаты\n",
    "display(df['genre'].sort_values().unique())"
   ]
  },
  {
   "cell_type": "markdown",
   "metadata": {
    "id": "jz6a9-7HQUDd"
   },
   "source": [
    "**Выводы**\n",
    "\n",
    "Предобработка обнаружила три проблемы в данных:\n",
    "\n",
    "- нарушения в стиле заголовков,\n",
    "- пропущенные значения,\n",
    "- дубликаты — явные и неявные.\n",
    "\n",
    "Мы исправили заголовки, чтобы упростить работу с таблицей. Без дубликатов исследование станет более точным.\n",
    "\n",
    "Пропущенные значения мы заменили на `'unknown'`. Ещё предстоит увидеть, не повредят ли исследованию пропуски в колонке `genre`.\n",
    "\n",
    "Теперь можно перейти к проверке гипотез. "
   ]
  },
  {
   "cell_type": "markdown",
   "metadata": {
    "id": "WttZHXH0SqKk"
   },
   "source": [
    "## Проверка гипотез"
   ]
  },
  {
   "cell_type": "markdown",
   "metadata": {
    "id": "Im936VVi_Zcu"
   },
   "source": [
    "### Сравнение поведения пользователей двух столиц"
   ]
  },
  {
   "cell_type": "markdown",
   "metadata": {
    "id": "nwt_MuaL_Zcu"
   },
   "source": [
    "Первая гипотеза утверждает, что пользователи по-разному слушают музыку в Москве и Санкт-Петербурге. Проверим это предположение по данным о трёх днях недели — понедельнике, среде и пятнице. Для этого:\n",
    "\n",
    "* Разделим пользователей Москвы и Санкт-Петербурга\n",
    "* Сравним, сколько треков послушала каждая группа пользователей в понедельник, среду и пятницу.\n"
   ]
  },
  {
   "cell_type": "markdown",
   "metadata": {
    "id": "8Dw_YMmT_Zcu"
   },
   "source": [
    "Для тренировки сначала выполним каждый из расчётов по отдельности. \n",
    "\n",
    "Оценим активность пользователей в каждом городе. Сгруппируем данные по городу и посчитаем прослушивания в каждой группе.\n",
    "\n"
   ]
  },
  {
   "cell_type": "code",
   "execution_count": 19,
   "metadata": {
    "id": "0_Qs96oh_Zcu"
   },
   "outputs": [
    {
     "data": {
      "text/html": [
       "<div>\n",
       "<style scoped>\n",
       "    .dataframe tbody tr th:only-of-type {\n",
       "        vertical-align: middle;\n",
       "    }\n",
       "\n",
       "    .dataframe tbody tr th {\n",
       "        vertical-align: top;\n",
       "    }\n",
       "\n",
       "    .dataframe thead th {\n",
       "        text-align: right;\n",
       "    }\n",
       "</style>\n",
       "<table border=\"1\" class=\"dataframe\">\n",
       "  <thead>\n",
       "    <tr style=\"text-align: right;\">\n",
       "      <th></th>\n",
       "      <th>user_id</th>\n",
       "      <th>track</th>\n",
       "      <th>artist</th>\n",
       "      <th>genre</th>\n",
       "      <th>time</th>\n",
       "      <th>day</th>\n",
       "    </tr>\n",
       "    <tr>\n",
       "      <th>city</th>\n",
       "      <th></th>\n",
       "      <th></th>\n",
       "      <th></th>\n",
       "      <th></th>\n",
       "      <th></th>\n",
       "      <th></th>\n",
       "    </tr>\n",
       "  </thead>\n",
       "  <tbody>\n",
       "    <tr>\n",
       "      <th>Moscow</th>\n",
       "      <td>42741</td>\n",
       "      <td>42741</td>\n",
       "      <td>42741</td>\n",
       "      <td>42741</td>\n",
       "      <td>42741</td>\n",
       "      <td>42741</td>\n",
       "    </tr>\n",
       "    <tr>\n",
       "      <th>Saint-Petersburg</th>\n",
       "      <td>18512</td>\n",
       "      <td>18512</td>\n",
       "      <td>18512</td>\n",
       "      <td>18512</td>\n",
       "      <td>18512</td>\n",
       "      <td>18512</td>\n",
       "    </tr>\n",
       "  </tbody>\n",
       "</table>\n",
       "</div>"
      ],
      "text/plain": [
       "                  user_id  track  artist  genre   time    day\n",
       "city                                                         \n",
       "Moscow              42741  42741   42741  42741  42741  42741\n",
       "Saint-Petersburg    18512  18512   18512  18512  18512  18512"
      ]
     },
     "execution_count": 19,
     "metadata": {},
     "output_type": "execute_result"
    }
   ],
   "source": [
    "# Подсчёт прослушиваний в каждом городе\n",
    "df.groupby('city').count()\n"
   ]
  },
  {
   "cell_type": "markdown",
   "metadata": {
    "id": "dzli3w8o_Zcu"
   },
   "source": [
    "В Москве прослушиваний больше, чем в Петербурге. Из этого не следует, что московские пользователи чаще слушают музыку. Просто самих пользователей в Москве больше.\n",
    "\n",
    "Теперь сгруппируем данные по дню недели и подсчитайте прослушивания в понедельник, среду и пятницу. Учтем, что в данных есть информация только о прослушиваниях только за эти дни.\n"
   ]
  },
  {
   "cell_type": "code",
   "execution_count": 21,
   "metadata": {
    "id": "uZMKjiJz_Zcu"
   },
   "outputs": [
    {
     "data": {
      "text/html": [
       "<div>\n",
       "<style scoped>\n",
       "    .dataframe tbody tr th:only-of-type {\n",
       "        vertical-align: middle;\n",
       "    }\n",
       "\n",
       "    .dataframe tbody tr th {\n",
       "        vertical-align: top;\n",
       "    }\n",
       "\n",
       "    .dataframe thead th {\n",
       "        text-align: right;\n",
       "    }\n",
       "</style>\n",
       "<table border=\"1\" class=\"dataframe\">\n",
       "  <thead>\n",
       "    <tr style=\"text-align: right;\">\n",
       "      <th></th>\n",
       "      <th>user_id</th>\n",
       "      <th>track</th>\n",
       "      <th>artist</th>\n",
       "      <th>genre</th>\n",
       "      <th>city</th>\n",
       "      <th>time</th>\n",
       "    </tr>\n",
       "    <tr>\n",
       "      <th>day</th>\n",
       "      <th></th>\n",
       "      <th></th>\n",
       "      <th></th>\n",
       "      <th></th>\n",
       "      <th></th>\n",
       "      <th></th>\n",
       "    </tr>\n",
       "  </thead>\n",
       "  <tbody>\n",
       "    <tr>\n",
       "      <th>Friday</th>\n",
       "      <td>21840</td>\n",
       "      <td>21840</td>\n",
       "      <td>21840</td>\n",
       "      <td>21840</td>\n",
       "      <td>21840</td>\n",
       "      <td>21840</td>\n",
       "    </tr>\n",
       "    <tr>\n",
       "      <th>Monday</th>\n",
       "      <td>21354</td>\n",
       "      <td>21354</td>\n",
       "      <td>21354</td>\n",
       "      <td>21354</td>\n",
       "      <td>21354</td>\n",
       "      <td>21354</td>\n",
       "    </tr>\n",
       "    <tr>\n",
       "      <th>Wednesday</th>\n",
       "      <td>18059</td>\n",
       "      <td>18059</td>\n",
       "      <td>18059</td>\n",
       "      <td>18059</td>\n",
       "      <td>18059</td>\n",
       "      <td>18059</td>\n",
       "    </tr>\n",
       "  </tbody>\n",
       "</table>\n",
       "</div>"
      ],
      "text/plain": [
       "           user_id  track  artist  genre   city   time\n",
       "day                                                   \n",
       "Friday       21840  21840   21840  21840  21840  21840\n",
       "Monday       21354  21354   21354  21354  21354  21354\n",
       "Wednesday    18059  18059   18059  18059  18059  18059"
      ]
     },
     "execution_count": 21,
     "metadata": {},
     "output_type": "execute_result"
    }
   ],
   "source": [
    "# Подсчёт прослушиваний в каждый из трёх дней\n",
    "df.groupby('day').count()"
   ]
  },
  {
   "cell_type": "markdown",
   "metadata": {
    "id": "cC2tNrlL_Zcu"
   },
   "source": [
    "В среднем пользователи из двух городов менее активны по средам. Но картина может измениться, если рассмотреть каждый город в отдельности."
   ]
  },
  {
   "cell_type": "markdown",
   "metadata": {
    "id": "POzs8bGa_Zcu"
   },
   "source": [
    "Мы видели, как работает группировка по городу и по дням недели. Теперь напишем функцию, которая объединит два эти расчёта.\n",
    "\n",
    "Создадим функцию `number_tracks()`, которая посчитает прослушивания для заданного дня и города. Ей понадобятся два параметра:\n",
    "* день недели,\n",
    "* название города.\n",
    "\n",
    "В функции сохраним в переменную строки исходной таблицы, у которых значение:\n",
    "  * в колонке `day` равно параметру `day`,\n",
    "  * в колонке `city` равно параметру `city`.\n",
    "\n",
    "Для этого применим последовательную фильтрацию с логической индексацией.\n",
    "\n",
    "Затем посчитаем значения в столбце `user_id` получившейся таблицы. Результат сохраним в новую переменную. Вернем эту переменную из функции."
   ]
  },
  {
   "cell_type": "code",
   "execution_count": 23,
   "metadata": {
    "id": "Nz3GdQB1_Zcu"
   },
   "outputs": [],
   "source": [
    "# <создание функции number_tracks()>\n",
    "def number_tracks(day, city):\n",
    "    track_list = df[df['day'] == day]\n",
    "    track_list = track_list[track_list['city'] == city]\n",
    "    track_list_count = track_list['user_id'].count()\n",
    "    return track_list_count\n",
    "    \n",
    "# Объявляется функция с двумя параметрами: day, city.\n",
    "# В переменной track_list сохраняются те строки таблицы df, для которых \n",
    "# значение в столбце 'day' равно параметру day и одновременно значение\n",
    "# в столбце 'city' равно параметру city (используйте последовательную фильтрацию\n",
    "# с помощью логической индексации).\n",
    "# В переменной track_list_count сохраняется число значений столбца 'user_id',\n",
    "# рассчитанное методом count() для таблицы track_list.\n",
    "# Функция возвращает число - значение track_list_count.\n",
    "\n",
    "# Функция для подсчёта прослушиваний для конкретного города и дня.\n",
    "# С помощью последовательной фильтрации с логической индексацией она \n",
    "# сначала получит из исходной таблицы строки с нужным днём,\n",
    "# затем из результата отфильтрует строки с нужным городом,\n",
    "# методом count() посчитает количество значений в колонке user_id. \n",
    "# Это количество функция вернёт в качестве результата"
   ]
  },
  {
   "cell_type": "markdown",
   "metadata": {
    "id": "ytf7xFrFJQ2r"
   },
   "source": [
    "Вызовем `number_tracks()` шесть раз, меняя значение параметров — так, чтобы получить данные для каждого города в каждый из трёх дней."
   ]
  },
  {
   "cell_type": "code",
   "execution_count": 24,
   "metadata": {
    "id": "rJcRATNQ_Zcu"
   },
   "outputs": [
    {
     "data": {
      "text/plain": [
       "15740"
      ]
     },
     "execution_count": 24,
     "metadata": {},
     "output_type": "execute_result"
    }
   ],
   "source": [
    "# количество прослушиваний в Москве по понедельникам\n",
    "number_tracks ('Monday', 'Moscow')"
   ]
  },
  {
   "cell_type": "code",
   "execution_count": 25,
   "metadata": {
    "id": "hq_ncZ5T_Zcu"
   },
   "outputs": [
    {
     "data": {
      "text/plain": [
       "5614"
      ]
     },
     "execution_count": 25,
     "metadata": {},
     "output_type": "execute_result"
    }
   ],
   "source": [
    "# количество прослушиваний в Санкт-Петербурге по понедельникам\n",
    "number_tracks ('Monday', 'Saint-Petersburg')"
   ]
  },
  {
   "cell_type": "code",
   "execution_count": 26,
   "metadata": {
    "id": "_NTy2VPU_Zcu"
   },
   "outputs": [
    {
     "data": {
      "text/plain": [
       "11056"
      ]
     },
     "execution_count": 26,
     "metadata": {},
     "output_type": "execute_result"
    }
   ],
   "source": [
    "# количество прослушиваний в Москве по средам\n",
    "number_tracks ('Wednesday', 'Moscow')"
   ]
  },
  {
   "cell_type": "code",
   "execution_count": 27,
   "metadata": {
    "id": "j2y3TAwo_Zcu"
   },
   "outputs": [
    {
     "data": {
      "text/plain": [
       "7003"
      ]
     },
     "execution_count": 27,
     "metadata": {},
     "output_type": "execute_result"
    }
   ],
   "source": [
    "# количество прослушиваний в Санкт-Петербурге по средам\n",
    "number_tracks ('Wednesday', 'Saint-Petersburg')"
   ]
  },
  {
   "cell_type": "code",
   "execution_count": 28,
   "metadata": {
    "id": "vYDw5u_K_Zcu"
   },
   "outputs": [
    {
     "data": {
      "text/plain": [
       "15945"
      ]
     },
     "execution_count": 28,
     "metadata": {},
     "output_type": "execute_result"
    }
   ],
   "source": [
    "# количество прослушиваний в Москве по пятницам\n",
    "number_tracks ('Friday', 'Moscow')"
   ]
  },
  {
   "cell_type": "code",
   "execution_count": 29,
   "metadata": {
    "id": "8_yzFtW3_Zcu"
   },
   "outputs": [
    {
     "data": {
      "text/plain": [
       "5895"
      ]
     },
     "execution_count": 29,
     "metadata": {},
     "output_type": "execute_result"
    }
   ],
   "source": [
    "# количество прослушиваний в Санкт-Петербурге по пятницам\n",
    "number_tracks ('Friday', 'Saint-Petersburg')"
   ]
  },
  {
   "cell_type": "markdown",
   "metadata": {
    "id": "7QXffbO-_Zcu"
   },
   "source": [
    "Создайдим c помощью конструктора `pd.DataFrame` таблицу, где\n",
    "* названия колонок — `['city', 'monday', 'wednesday', 'friday']`;\n",
    "* данные — результаты, которые вы получили с помощью `number_tracks`."
   ]
  },
  {
   "cell_type": "code",
   "execution_count": 30,
   "metadata": {
    "id": "APAcLpOr_Zcu"
   },
   "outputs": [],
   "source": [
    "# Таблица с результатами\n",
    "data = [['Moscow', 15740, 11056, 15945],\n",
    "    ['Saint-Petersburg', 5614, 7003, 5895]]\n",
    "columns = ['city', 'monday', 'wednesday', 'friday']\n",
    "table = pd.DataFrame(data = data, columns = columns)"
   ]
  },
  {
   "cell_type": "markdown",
   "metadata": {
    "id": "-EgPIHYu_Zcu"
   },
   "source": [
    "**Выводы**\n",
    "\n",
    "Данные показывают разницу поведения пользователей:\n",
    "\n",
    "- В Москве пик прослушиваний приходится на понедельник и пятницу, а в среду заметен спад.\n",
    "- В Петербурге, наоборот, больше слушают музыку по средам. Активность в понедельник и пятницу здесь почти в равной мере уступает среде.\n",
    "\n",
    "Значит, данные говорят в пользу первой гипотезы."
   ]
  },
  {
   "cell_type": "markdown",
   "metadata": {
    "id": "atZAxtq4_Zcu"
   },
   "source": [
    "### Музыка в начале и в конце недели"
   ]
  },
  {
   "cell_type": "markdown",
   "metadata": {
    "id": "eXrQqXFH_Zcu"
   },
   "source": [
    "Согласно второй гипотезе, утром в понедельник в Москве преобладают одни жанры, а в Петербурге — другие. Так же и вечером пятницы преобладают разные жанры — в зависимости от города."
   ]
  },
  {
   "cell_type": "markdown",
   "metadata": {
    "id": "S8UcW6Hw_Zcu"
   },
   "source": [
    "Сохраним таблицы с данными в две переменные:\n",
    "* по Москве — в `moscow_general`;\n",
    "* по Санкт-Петербургу — в `spb_general`."
   ]
  },
  {
   "cell_type": "code",
   "execution_count": 31,
   "metadata": {
    "id": "qeaFfM_P_Zcu"
   },
   "outputs": [],
   "source": [
    "# получение таблицы moscow_general из тех строк таблицы df, \n",
    "# для которых значение в столбце 'city' равно 'Moscow'\n",
    "moscow_general = df[df['city'] == 'Moscow']\n"
   ]
  },
  {
   "cell_type": "code",
   "execution_count": 32,
   "metadata": {
    "id": "ORaVRKto_Zcu"
   },
   "outputs": [],
   "source": [
    "# получение таблицы spb_general из тех строк таблицы df,\n",
    "# для которых значение в столбце 'city' равно 'Saint-Petersburg'\n",
    "spb_general = df[df['city'] == 'Saint-Petersburg']\n"
   ]
  },
  {
   "cell_type": "markdown",
   "metadata": {
    "id": "MEJV-CX2_Zcu"
   },
   "source": [
    "Создадим функцию `genre_weekday()` с четырьмя параметрами:\n",
    "* таблица (датафрейм) с данными,\n",
    "* день недели,\n",
    "* начальная временная метка в формате 'hh:mm', \n",
    "* последняя временная метка в формате 'hh:mm'.\n",
    "\n",
    "Функция должна вернуть информацию о топ-10 жанров тех треков, которые прослушивали в указанный день, в промежутке между двумя отметками времени."
   ]
  },
  {
   "cell_type": "code",
   "execution_count": 33,
   "metadata": {
    "id": "laJT9BYl_Zcu"
   },
   "outputs": [],
   "source": [
    "def genre_weekday(table, day, time1, time2):\n",
    "    genre_df = table[table['day'] == day]\n",
    "    genre_df = genre_df[genre_df['time'] > time1]\n",
    "    genre_df = genre_df[genre_df['time'] < time2]\n",
    "    genre_df_count = genre_df.groupby('genre')['genre'].count()\n",
    "    genre_df_sorted = genre_df_count.sort_values(ascending=False)\n",
    "    return genre_df_sorted.head(10)\n",
    "    \n",
    "\n",
    "# Объявление функции genre_weekday() с параметрами table, day, time1, time2,\n",
    "# которая возвращает информацию о самых популярных жанрах в указанный день в\n",
    "# заданное время:\n",
    "# 1) в переменную genre_df сохраняются те строки переданного датафрейма table, для\n",
    "#    которых одновременно:\n",
    "#    - значение в столбце day равно значению аргумента day\n",
    "#    - значение в столбце time больше значения аргумента time1\n",
    "#    - значение в столбце time меньше значения аргумента time2\n",
    "#    Используйте последовательную фильтрацию с помощью логической индексации.\n",
    "# 2) сгруппировать датафрейм genre_df по столбцу genre, взять один из его\n",
    "#    столбцов и посчитать методом count() количество записей для каждого из\n",
    "#    присутствующих жанров, получившийся Series записать в переменную\n",
    "#    genre_df_count\n",
    "# 3) отсортировать genre_df_count по убыванию встречаемости и сохранить\n",
    "#    в переменную genre_df_sorted\n",
    "# 4) вернуть Series из 10 первых значений genre_df_sorted, это будут топ-10\n",
    "#    популярных жанров (в указанный день, в заданное время)"
   ]
  },
  {
   "cell_type": "markdown",
   "metadata": {
    "id": "la2s2_PF_Zcu"
   },
   "source": [
    "Cравним результаты функции `genre_weekday()` для Москвы и Санкт-Петербурга в понедельник утром (с 7:00 до 11:00) и в пятницу вечером (с 17:00 до 23:00):"
   ]
  },
  {
   "cell_type": "code",
   "execution_count": 34,
   "metadata": {
    "id": "yz7itPUQ_Zcu"
   },
   "outputs": [
    {
     "data": {
      "text/plain": [
       "genre\n",
       "pop            781\n",
       "dance          549\n",
       "electronic     480\n",
       "rock           474\n",
       "hiphop         286\n",
       "ruspop         186\n",
       "world          181\n",
       "rusrap         175\n",
       "alternative    164\n",
       "unknown        161\n",
       "Name: genre, dtype: int64"
      ]
     },
     "execution_count": 34,
     "metadata": {},
     "output_type": "execute_result"
    }
   ],
   "source": [
    "# вызов функции для утра понедельника в Москве (вместо df — таблица moscow_general)\n",
    "# объекты, хранящие время, являются строками и сравниваются как строки\n",
    "# пример вызова: genre_weekday(moscow_general, 'Monday', '07:00', '11:00')\n",
    "\n",
    "genre_weekday(moscow_general, 'Monday', '07:00', '11:00')"
   ]
  },
  {
   "cell_type": "code",
   "execution_count": 35,
   "metadata": {
    "id": "kwUcHPdy_Zcu"
   },
   "outputs": [
    {
     "data": {
      "text/plain": [
       "genre\n",
       "pop            218\n",
       "dance          182\n",
       "rock           162\n",
       "electronic     147\n",
       "hiphop          80\n",
       "ruspop          64\n",
       "alternative     58\n",
       "rusrap          55\n",
       "jazz            44\n",
       "classical       40\n",
       "Name: genre, dtype: int64"
      ]
     },
     "execution_count": 35,
     "metadata": {},
     "output_type": "execute_result"
    }
   ],
   "source": [
    "# вызов функции для утра понедельника в Петербурге (вместо df — таблица spb_general)\n",
    "genre_weekday(spb_general, 'Monday', '07:00', '11:00')"
   ]
  },
  {
   "cell_type": "code",
   "execution_count": 36,
   "metadata": {
    "id": "EzXVRE1o_Zcu"
   },
   "outputs": [
    {
     "data": {
      "text/plain": [
       "genre\n",
       "pop            713\n",
       "rock           517\n",
       "dance          495\n",
       "electronic     482\n",
       "hiphop         273\n",
       "world          208\n",
       "ruspop         170\n",
       "alternative    163\n",
       "classical      163\n",
       "rusrap         142\n",
       "Name: genre, dtype: int64"
      ]
     },
     "execution_count": 36,
     "metadata": {},
     "output_type": "execute_result"
    }
   ],
   "source": [
    "# вызов функции для вечера пятницы в Москве\n",
    "genre_weekday(moscow_general, 'Friday', '17:00', '23:00')"
   ]
  },
  {
   "cell_type": "code",
   "execution_count": 37,
   "metadata": {
    "id": "JZaEKu5v_Zcu"
   },
   "outputs": [
    {
     "data": {
      "text/plain": [
       "genre\n",
       "pop            256\n",
       "electronic     216\n",
       "rock           216\n",
       "dance          210\n",
       "hiphop          97\n",
       "alternative     63\n",
       "jazz            61\n",
       "classical       60\n",
       "rusrap          59\n",
       "world           54\n",
       "Name: genre, dtype: int64"
      ]
     },
     "execution_count": 37,
     "metadata": {},
     "output_type": "execute_result"
    }
   ],
   "source": [
    "# вызов функции для вечера пятницы в Петербурге\n",
    "genre_weekday(spb_general, 'Friday', '17:00', '23:00')"
   ]
  },
  {
   "cell_type": "markdown",
   "metadata": {
    "id": "wrCe4MNX_Zcu"
   },
   "source": [
    "**Выводы**\n",
    "\n",
    "Если сравнить топ-10 жанров в понедельник утром, можно сделать такие выводы:\n",
    "\n",
    "1. В Москве и Петербурге слушают похожую музыку. Единственное отличие — в московский рейтинг вошёл жанр “world”, а в петербургский — джаз и классика.\n",
    "\n",
    "2. В Москве пропущенных значений оказалось так много, что значение `'unknown'` заняло десятое место среди самых популярных жанров. Значит, пропущенные значения занимают существенную долю в данных и угрожают достоверности исследования.\n",
    "\n",
    "Вечер пятницы не меняет эту картину. Некоторые жанры поднимаются немного выше, другие спускаются, но в целом топ-10 остаётся тем же самым.\n",
    "\n",
    "Таким образом, вторая гипотеза подтвердилась лишь частично:\n",
    "* Пользователи слушают похожую музыку в начале недели и в конце.\n",
    "* Разница между Москвой и Петербургом не слишком выражена. В Москве чаще слушают русскую популярную музыку, в Петербурге — джаз.\n",
    "\n",
    "Однако пропуски в данных ставят под сомнение этот результат. В Москве их так много, что рейтинг топ-10 мог бы выглядеть иначе, если бы не утерянные  данные о жанрах."
   ]
  },
  {
   "cell_type": "markdown",
   "metadata": {
    "id": "JolODAqr_Zcu"
   },
   "source": [
    "### Жанровые предпочтения в Москве и Петербурге\n",
    "\n",
    "Гипотеза: Петербург — столица рэпа, музыку этого жанра там слушают чаще, чем в Москве.  А Москва — город контрастов, в котором, тем не менее, преобладает поп-музыка."
   ]
  },
  {
   "cell_type": "markdown",
   "metadata": {
    "id": "DlegSvaT_Zcu"
   },
   "source": [
    "Сгруппируем таблицу `moscow_general` по жанру и посчитаем прослушивания треков каждого жанра методом `count()`. Затем отсортируем результат в порядке убывания и сохраним его в таблице `moscow_genres`."
   ]
  },
  {
   "cell_type": "code",
   "execution_count": 38,
   "metadata": {
    "id": "r19lIPke_Zcu"
   },
   "outputs": [],
   "source": [
    "# одной строкой: группировка таблицы moscow_general по столбцу 'genre', \n",
    "# подсчёт числа значений 'genre' в этой группировке методом count(), \n",
    "# сортировка получившегося Series в порядке убывания и сохранение в moscow_genres\n",
    "moscow_genres = moscow_general.groupby('genre')['genre'].count().sort_values(ascending=False)"
   ]
  },
  {
   "cell_type": "markdown",
   "metadata": {
    "id": "6kMuomxTiIr8"
   },
   "source": [
    "Выведем на экран первые десять строк `moscow_genres`:"
   ]
  },
  {
   "cell_type": "code",
   "execution_count": 40,
   "metadata": {},
   "outputs": [
    {
     "data": {
      "text/html": [
       "<div>\n",
       "<style scoped>\n",
       "    .dataframe tbody tr th:only-of-type {\n",
       "        vertical-align: middle;\n",
       "    }\n",
       "\n",
       "    .dataframe tbody tr th {\n",
       "        vertical-align: top;\n",
       "    }\n",
       "\n",
       "    .dataframe thead th {\n",
       "        text-align: right;\n",
       "    }\n",
       "</style>\n",
       "<table border=\"1\" class=\"dataframe\">\n",
       "  <thead>\n",
       "    <tr style=\"text-align: right;\">\n",
       "      <th></th>\n",
       "      <th>genre</th>\n",
       "    </tr>\n",
       "    <tr>\n",
       "      <th>genre</th>\n",
       "      <th></th>\n",
       "    </tr>\n",
       "  </thead>\n",
       "  <tbody>\n",
       "    <tr>\n",
       "      <th>pop</th>\n",
       "      <td>5892</td>\n",
       "    </tr>\n",
       "    <tr>\n",
       "      <th>dance</th>\n",
       "      <td>4435</td>\n",
       "    </tr>\n",
       "    <tr>\n",
       "      <th>rock</th>\n",
       "      <td>3965</td>\n",
       "    </tr>\n",
       "    <tr>\n",
       "      <th>electronic</th>\n",
       "      <td>3786</td>\n",
       "    </tr>\n",
       "    <tr>\n",
       "      <th>hiphop</th>\n",
       "      <td>2096</td>\n",
       "    </tr>\n",
       "    <tr>\n",
       "      <th>classical</th>\n",
       "      <td>1616</td>\n",
       "    </tr>\n",
       "    <tr>\n",
       "      <th>world</th>\n",
       "      <td>1432</td>\n",
       "    </tr>\n",
       "    <tr>\n",
       "      <th>alternative</th>\n",
       "      <td>1379</td>\n",
       "    </tr>\n",
       "    <tr>\n",
       "      <th>ruspop</th>\n",
       "      <td>1372</td>\n",
       "    </tr>\n",
       "    <tr>\n",
       "      <th>rusrap</th>\n",
       "      <td>1161</td>\n",
       "    </tr>\n",
       "  </tbody>\n",
       "</table>\n",
       "</div>"
      ],
      "text/plain": [
       "             genre\n",
       "genre             \n",
       "pop           5892\n",
       "dance         4435\n",
       "rock          3965\n",
       "electronic    3786\n",
       "hiphop        2096\n",
       "classical     1616\n",
       "world         1432\n",
       "alternative   1379\n",
       "ruspop        1372\n",
       "rusrap        1161"
      ]
     },
     "execution_count": 40,
     "metadata": {},
     "output_type": "execute_result"
    }
   ],
   "source": [
    "moscow_genres.to_frame().head(10)"
   ]
  },
  {
   "cell_type": "markdown",
   "metadata": {
    "id": "cnPG2vnN_Zcv"
   },
   "source": [
    "Теперь повторим то же и для Петербурга.\n",
    "\n",
    "Сгруппируем таблицу `spb_general` по жанру. Посчитаем прослушивания треков каждого жанра. Результат отсортируем в порядке убывания и сохраним в таблице `spb_genres`:\n"
   ]
  },
  {
   "cell_type": "code",
   "execution_count": 41,
   "metadata": {
    "id": "gluLIpE7_Zcv"
   },
   "outputs": [],
   "source": [
    "# одной строкой: группировка таблицы spb_general по столбцу 'genre', \n",
    "# подсчёт числа значений 'genre' в этой группировке методом count(), \n",
    "# сортировка получившегося Series в порядке убывания и сохранение в spb_genres\n",
    "spb_genres = spb_general.groupby('genre')['genre'].count().sort_values(ascending=False)"
   ]
  },
  {
   "cell_type": "markdown",
   "metadata": {
    "id": "5Doha_ODgyQ8"
   },
   "source": [
    "Выведем на экран первые десять строк `spb_genres`:"
   ]
  },
  {
   "cell_type": "code",
   "execution_count": 42,
   "metadata": {
    "id": "uaGJHjVU_Zcv"
   },
   "outputs": [
    {
     "name": "stdout",
     "output_type": "stream",
     "text": [
      "genre\n",
      "pop            2431\n",
      "dance          1932\n",
      "rock           1879\n",
      "electronic     1736\n",
      "hiphop          960\n",
      "alternative     649\n",
      "classical       646\n",
      "rusrap          564\n",
      "ruspop          538\n",
      "world           515\n",
      "Name: genre, dtype: int64\n"
     ]
    }
   ],
   "source": [
    "# просмотр первых 10 строк spb_genres\n",
    "print(spb_genres.head(10))"
   ]
  },
  {
   "cell_type": "markdown",
   "metadata": {
    "id": "RY51YJYu_Zcv"
   },
   "source": [
    "**Выводы**"
   ]
  },
  {
   "cell_type": "markdown",
   "metadata": {
    "id": "nVhnJEm__Zcv"
   },
   "source": [
    "Гипотеза частично подтвердилась:\n",
    "* Поп-музыка — самый популярный жанр в Москве, как и предполагала гипотеза. Более того, в топ-10 жанров встречается близкий жанр — русская популярная музыка.\n",
    "* Вопреки ожиданиям, рэп одинаково популярен в Москве и Петербурге. \n"
   ]
  },
  {
   "cell_type": "markdown",
   "metadata": {
    "id": "ykKQ0N65_Zcv"
   },
   "source": [
    "## Итоги исследования"
   ]
  },
  {
   "cell_type": "markdown",
   "metadata": {
    "id": "tjUwbHb3_Zcv"
   },
   "source": [
    "Мы проверили три гипотезы и установили:\n",
    "\n",
    "1. День недели по-разному влияет на активность пользователей в Москве и Петербурге. \n",
    "\n",
    "Первая гипотеза полностью подтвердилась.\n",
    "\n",
    "2. Музыкальные предпочтения не сильно меняются в течение недели — будь то Москва или Петербург. Небольшие различия заметны в начале недели, по понедельникам:\n",
    "* в Москве слушают музыку жанра “world”,\n",
    "* в Петербурге — джаз и классику.\n",
    "\n",
    "Таким образом, вторая гипотеза подтвердилась лишь отчасти. Этот результат мог оказаться иным, если бы не пропуски в данных.\n",
    "\n",
    "3. Во вкусах пользователей Москвы и Петербурга больше общего чем различий. Вопреки ожиданиям, предпочтения жанров в Петербурге напоминают московские.\n",
    "\n",
    "Третья гипотеза не подтвердилась. Если различия в предпочтениях и существуют, на основной массе пользователей они незаметны."
   ]
  },
  {
   "cell_type": "code",
   "execution_count": null,
   "metadata": {},
   "outputs": [],
   "source": []
  }
 ],
 "metadata": {
  "ExecuteTimeLog": [
   {
    "duration": 590,
    "start_time": "2022-01-14T19:01:00.027Z"
   },
   {
    "duration": 2,
    "start_time": "2022-01-14T19:01:02.821Z"
   },
   {
    "duration": 3,
    "start_time": "2022-01-14T19:01:08.694Z"
   },
   {
    "duration": 277,
    "start_time": "2022-01-14T19:03:40.016Z"
   },
   {
    "duration": 206,
    "start_time": "2022-01-14T19:04:00.312Z"
   },
   {
    "duration": 213,
    "start_time": "2022-01-14T19:05:50.478Z"
   },
   {
    "duration": 219,
    "start_time": "2022-01-14T19:06:10.103Z"
   },
   {
    "duration": 217,
    "start_time": "2022-01-14T19:06:32.439Z"
   },
   {
    "duration": 2933,
    "start_time": "2022-01-14T19:06:51.904Z"
   },
   {
    "duration": 218,
    "start_time": "2022-01-14T19:06:55.143Z"
   },
   {
    "duration": 130,
    "start_time": "2022-01-14T19:07:41.546Z"
   },
   {
    "duration": 17,
    "start_time": "2022-01-14T19:08:03.547Z"
   },
   {
    "duration": 7,
    "start_time": "2022-01-14T19:08:14.153Z"
   },
   {
    "duration": 25,
    "start_time": "2022-01-14T19:10:45.992Z"
   },
   {
    "duration": 3,
    "start_time": "2022-01-14T19:15:40.724Z"
   },
   {
    "duration": 4,
    "start_time": "2022-01-14T19:24:50.882Z"
   },
   {
    "duration": 21,
    "start_time": "2022-01-14T19:24:55.771Z"
   },
   {
    "duration": 3,
    "start_time": "2022-01-14T19:26:45.364Z"
   },
   {
    "duration": 22,
    "start_time": "2022-01-14T19:27:36.764Z"
   },
   {
    "duration": 21,
    "start_time": "2022-01-14T19:40:27.179Z"
   },
   {
    "duration": 16,
    "start_time": "2022-01-14T19:40:32.146Z"
   },
   {
    "duration": 22,
    "start_time": "2022-01-14T19:40:35.634Z"
   },
   {
    "duration": 223,
    "start_time": "2022-01-14T19:46:20.868Z"
   },
   {
    "duration": 56,
    "start_time": "2022-01-14T19:46:34.093Z"
   },
   {
    "duration": 66,
    "start_time": "2022-01-14T19:48:16.388Z"
   },
   {
    "duration": 49,
    "start_time": "2022-01-14T19:48:32.812Z"
   },
   {
    "duration": 6,
    "start_time": "2022-01-14T19:53:18.958Z"
   },
   {
    "duration": 224,
    "start_time": "2022-01-14T19:55:27.086Z"
   },
   {
    "duration": 38,
    "start_time": "2022-01-14T19:56:28.462Z"
   },
   {
    "duration": 228,
    "start_time": "2022-01-14T20:11:06.179Z"
   },
   {
    "duration": 3,
    "start_time": "2022-01-14T20:11:35.005Z"
   },
   {
    "duration": 15,
    "start_time": "2022-01-14T20:11:38.356Z"
   },
   {
    "duration": 39,
    "start_time": "2022-01-14T20:11:44.412Z"
   },
   {
    "duration": 31,
    "start_time": "2022-01-14T20:28:26.681Z"
   },
   {
    "duration": 41,
    "start_time": "2022-01-14T20:30:16.686Z"
   },
   {
    "duration": 42,
    "start_time": "2022-01-14T20:30:46.577Z"
   },
   {
    "duration": 15,
    "start_time": "2022-01-14T20:30:52.854Z"
   },
   {
    "duration": 39,
    "start_time": "2022-01-14T20:30:56.294Z"
   },
   {
    "duration": 30,
    "start_time": "2022-01-14T20:31:00.680Z"
   },
   {
    "duration": 4,
    "start_time": "2022-01-14T20:32:26.334Z"
   },
   {
    "duration": 33,
    "start_time": "2022-01-14T20:32:46.766Z"
   },
   {
    "duration": 4,
    "start_time": "2022-01-14T20:32:49.798Z"
   },
   {
    "duration": 31,
    "start_time": "2022-01-14T20:33:01.125Z"
   },
   {
    "duration": 11,
    "start_time": "2022-01-14T20:34:25.109Z"
   },
   {
    "duration": 10,
    "start_time": "2022-01-14T20:34:32.868Z"
   },
   {
    "duration": 10,
    "start_time": "2022-01-14T20:34:50.293Z"
   },
   {
    "duration": 32,
    "start_time": "2022-01-14T20:35:17.228Z"
   },
   {
    "duration": 4,
    "start_time": "2022-01-14T20:55:43.880Z"
   },
   {
    "duration": 298,
    "start_time": "2022-01-14T21:01:29.757Z"
   },
   {
    "duration": 4,
    "start_time": "2022-01-14T21:01:35.692Z"
   },
   {
    "duration": 1711,
    "start_time": "2022-01-14T21:01:39.557Z"
   },
   {
    "duration": -335,
    "start_time": "2022-01-14T21:01:41.605Z"
   },
   {
    "duration": -336,
    "start_time": "2022-01-14T21:01:41.608Z"
   },
   {
    "duration": 1690,
    "start_time": "2022-01-14T21:01:41.561Z"
   },
   {
    "duration": 1741,
    "start_time": "2022-01-14T21:01:53.677Z"
   },
   {
    "duration": 1727,
    "start_time": "2022-01-14T21:01:55.471Z"
   },
   {
    "duration": 245,
    "start_time": "2022-01-14T21:02:05.581Z"
   },
   {
    "duration": 223,
    "start_time": "2022-01-14T21:04:12.453Z"
   },
   {
    "duration": 230,
    "start_time": "2022-01-14T21:05:02.719Z"
   },
   {
    "duration": 3,
    "start_time": "2022-01-14T21:05:28.117Z"
   },
   {
    "duration": 3,
    "start_time": "2022-01-14T21:08:08.358Z"
   },
   {
    "duration": 16,
    "start_time": "2022-01-14T21:08:12.062Z"
   },
   {
    "duration": 15,
    "start_time": "2022-01-14T21:08:16.444Z"
   },
   {
    "duration": 16,
    "start_time": "2022-01-14T21:08:19.476Z"
   },
   {
    "duration": 17,
    "start_time": "2022-01-14T21:08:24.278Z"
   },
   {
    "duration": 17,
    "start_time": "2022-01-14T21:08:28.934Z"
   },
   {
    "duration": 16,
    "start_time": "2022-01-14T21:08:31.757Z"
   },
   {
    "duration": 221,
    "start_time": "2022-01-14T21:08:36.501Z"
   },
   {
    "duration": 214,
    "start_time": "2022-01-14T21:09:12.462Z"
   },
   {
    "duration": 222,
    "start_time": "2022-01-14T21:11:35.013Z"
   },
   {
    "duration": 67,
    "start_time": "2022-01-14T21:14:13.158Z"
   },
   {
    "duration": 82,
    "start_time": "2022-01-14T21:14:22.780Z"
   },
   {
    "duration": 223,
    "start_time": "2022-01-14T21:15:14.309Z"
   },
   {
    "duration": 274,
    "start_time": "2022-01-14T21:15:37.711Z"
   },
   {
    "duration": 215,
    "start_time": "2022-01-14T21:15:50.680Z"
   },
   {
    "duration": 229,
    "start_time": "2022-01-14T21:16:21.981Z"
   },
   {
    "duration": 78,
    "start_time": "2022-01-14T21:18:25.461Z"
   },
   {
    "duration": 4,
    "start_time": "2022-01-14T21:19:37.773Z"
   },
   {
    "duration": 4,
    "start_time": "2022-01-14T21:19:43.452Z"
   },
   {
    "duration": 254,
    "start_time": "2022-01-14T21:20:28.990Z"
   },
   {
    "duration": 9,
    "start_time": "2022-01-14T21:20:38.019Z"
   },
   {
    "duration": 7,
    "start_time": "2022-01-14T21:22:09.585Z"
   },
   {
    "duration": 223,
    "start_time": "2022-01-14T21:24:06.509Z"
   },
   {
    "duration": 7,
    "start_time": "2022-01-14T21:24:39.110Z"
   },
   {
    "duration": 7,
    "start_time": "2022-01-14T21:25:52.439Z"
   },
   {
    "duration": 226,
    "start_time": "2022-01-14T21:28:01.048Z"
   },
   {
    "duration": 226,
    "start_time": "2022-01-14T21:28:28.081Z"
   },
   {
    "duration": 3,
    "start_time": "2022-01-14T21:28:37.704Z"
   },
   {
    "duration": 16,
    "start_time": "2022-01-14T21:28:40.681Z"
   },
   {
    "duration": 14,
    "start_time": "2022-01-14T21:28:41.577Z"
   },
   {
    "duration": 14,
    "start_time": "2022-01-14T21:28:42.497Z"
   },
   {
    "duration": 14,
    "start_time": "2022-01-14T21:28:43.814Z"
   },
   {
    "duration": 17,
    "start_time": "2022-01-14T21:28:45.905Z"
   },
   {
    "duration": 15,
    "start_time": "2022-01-14T21:28:47.960Z"
   },
   {
    "duration": 226,
    "start_time": "2022-01-14T21:28:53.358Z"
   },
   {
    "duration": 221,
    "start_time": "2022-01-14T21:30:29.633Z"
   },
   {
    "duration": 234,
    "start_time": "2022-01-14T21:34:16.529Z"
   },
   {
    "duration": 232,
    "start_time": "2022-01-14T21:34:48.961Z"
   },
   {
    "duration": 1045,
    "start_time": "2022-01-14T21:35:44.532Z"
   },
   {
    "duration": 4,
    "start_time": "2022-01-14T21:40:53.981Z"
   },
   {
    "duration": 5,
    "start_time": "2022-01-14T21:40:58.159Z"
   },
   {
    "duration": 7,
    "start_time": "2022-01-14T21:41:11.035Z"
   },
   {
    "duration": 6,
    "start_time": "2022-01-14T21:41:53.228Z"
   },
   {
    "duration": 7,
    "start_time": "2022-01-14T21:42:25.035Z"
   },
   {
    "duration": 4,
    "start_time": "2022-01-14T21:42:31.172Z"
   },
   {
    "duration": 10,
    "start_time": "2022-01-14T21:44:53.220Z"
   },
   {
    "duration": 9,
    "start_time": "2022-01-14T21:47:18.291Z"
   },
   {
    "duration": 4,
    "start_time": "2022-01-14T21:59:38.863Z"
   },
   {
    "duration": 4,
    "start_time": "2022-01-14T22:02:28.984Z"
   },
   {
    "duration": 22,
    "start_time": "2022-01-14T22:04:49.970Z"
   },
   {
    "duration": 24,
    "start_time": "2022-01-14T22:05:36.641Z"
   },
   {
    "duration": 13,
    "start_time": "2022-01-14T22:06:12.138Z"
   },
   {
    "duration": 11,
    "start_time": "2022-01-14T22:06:13.394Z"
   },
   {
    "duration": 6,
    "start_time": "2022-01-14T22:07:06.587Z"
   },
   {
    "duration": 5,
    "start_time": "2022-01-14T22:07:07.835Z"
   },
   {
    "duration": 4,
    "start_time": "2022-01-14T22:07:12.706Z"
   },
   {
    "duration": 23,
    "start_time": "2022-01-14T22:07:16.386Z"
   },
   {
    "duration": 23,
    "start_time": "2022-01-14T22:07:21.882Z"
   },
   {
    "duration": 4,
    "start_time": "2022-01-14T22:11:19.052Z"
   },
   {
    "duration": 22,
    "start_time": "2022-01-14T22:11:35.413Z"
   },
   {
    "duration": 5,
    "start_time": "2022-01-14T22:12:14.605Z"
   },
   {
    "duration": 6,
    "start_time": "2022-01-14T22:12:28.510Z"
   },
   {
    "duration": 4,
    "start_time": "2022-01-14T22:12:35.695Z"
   },
   {
    "duration": 4,
    "start_time": "2022-01-14T22:13:02.454Z"
   },
   {
    "duration": 4,
    "start_time": "2022-01-14T22:13:06.258Z"
   },
   {
    "duration": 3,
    "start_time": "2022-01-14T22:13:07.487Z"
   },
   {
    "duration": 4,
    "start_time": "2022-01-14T22:13:11.514Z"
   },
   {
    "duration": -297,
    "start_time": "2022-01-14T22:13:56.577Z"
   },
   {
    "duration": 5673,
    "start_time": "2022-01-14T22:13:58.781Z"
   },
   {
    "duration": 5782,
    "start_time": "2022-01-14T22:14:15.941Z"
   },
   {
    "duration": 4,
    "start_time": "2022-01-14T22:15:33.477Z"
   },
   {
    "duration": 5640,
    "start_time": "2022-01-14T22:16:07.814Z"
   },
   {
    "duration": 5,
    "start_time": "2022-01-14T22:17:06.272Z"
   },
   {
    "duration": 5583,
    "start_time": "2022-01-14T22:17:13.128Z"
   },
   {
    "duration": 5660,
    "start_time": "2022-01-14T22:18:35.240Z"
   },
   {
    "duration": 4,
    "start_time": "2022-01-14T22:19:06.295Z"
   },
   {
    "duration": 6265,
    "start_time": "2022-01-14T22:19:09.687Z"
   },
   {
    "duration": 5608,
    "start_time": "2022-01-14T22:19:35.305Z"
   },
   {
    "duration": 5682,
    "start_time": "2022-01-14T22:19:50.680Z"
   },
   {
    "duration": 4,
    "start_time": "2022-01-14T22:23:45.823Z"
   },
   {
    "duration": 5359,
    "start_time": "2022-01-14T22:23:50.553Z"
   },
   {
    "duration": 4,
    "start_time": "2022-01-14T22:28:04.032Z"
   },
   {
    "duration": 6076,
    "start_time": "2022-01-14T22:28:13.456Z"
   },
   {
    "duration": 225,
    "start_time": "2022-01-14T22:37:04.840Z"
   },
   {
    "duration": 218,
    "start_time": "2022-01-14T22:37:43.673Z"
   },
   {
    "duration": 224,
    "start_time": "2022-01-14T22:39:28.792Z"
   },
   {
    "duration": 8,
    "start_time": "2022-01-14T22:42:57.273Z"
   },
   {
    "duration": 3,
    "start_time": "2022-01-14T22:44:56.868Z"
   },
   {
    "duration": 160,
    "start_time": "2022-01-14T22:44:56.874Z"
   },
   {
    "duration": 10,
    "start_time": "2022-01-14T22:44:57.037Z"
   },
   {
    "duration": 32,
    "start_time": "2022-01-14T22:44:57.049Z"
   },
   {
    "duration": 17,
    "start_time": "2022-01-14T22:44:57.083Z"
   },
   {
    "duration": 26,
    "start_time": "2022-01-14T22:44:57.102Z"
   },
   {
    "duration": 4,
    "start_time": "2022-01-14T22:44:57.130Z"
   },
   {
    "duration": 27,
    "start_time": "2022-01-14T22:44:57.136Z"
   },
   {
    "duration": 48,
    "start_time": "2022-01-14T22:44:57.167Z"
   },
   {
    "duration": 25,
    "start_time": "2022-01-14T22:44:57.218Z"
   },
   {
    "duration": 77,
    "start_time": "2022-01-14T22:44:57.246Z"
   },
   {
    "duration": 77,
    "start_time": "2022-01-14T22:44:57.325Z"
   },
   {
    "duration": 53,
    "start_time": "2022-01-14T22:44:57.404Z"
   },
   {
    "duration": 57,
    "start_time": "2022-01-14T22:44:57.459Z"
   },
   {
    "duration": 3,
    "start_time": "2022-01-14T22:44:57.518Z"
   },
   {
    "duration": 20,
    "start_time": "2022-01-14T22:44:57.523Z"
   },
   {
    "duration": 58,
    "start_time": "2022-01-14T22:44:57.545Z"
   },
   {
    "duration": 34,
    "start_time": "2022-01-14T22:44:57.604Z"
   },
   {
    "duration": 30,
    "start_time": "2022-01-14T22:44:57.640Z"
   },
   {
    "duration": 3,
    "start_time": "2022-01-14T22:44:57.672Z"
   },
   {
    "duration": 21,
    "start_time": "2022-01-14T22:44:57.698Z"
   },
   {
    "duration": 14,
    "start_time": "2022-01-14T22:44:57.721Z"
   },
   {
    "duration": 15,
    "start_time": "2022-01-14T22:44:57.737Z"
   },
   {
    "duration": 48,
    "start_time": "2022-01-14T22:44:57.755Z"
   },
   {
    "duration": 20,
    "start_time": "2022-01-14T22:44:57.805Z"
   },
   {
    "duration": 13,
    "start_time": "2022-01-14T22:44:57.826Z"
   },
   {
    "duration": 4,
    "start_time": "2022-01-14T22:44:57.840Z"
   },
   {
    "duration": 14,
    "start_time": "2022-01-14T22:44:57.845Z"
   },
   {
    "duration": 8,
    "start_time": "2022-01-14T22:44:57.861Z"
   },
   {
    "duration": 32,
    "start_time": "2022-01-14T22:44:57.870Z"
   },
   {
    "duration": 33,
    "start_time": "2022-01-14T22:44:57.904Z"
   },
   {
    "duration": 14,
    "start_time": "2022-01-14T22:44:57.939Z"
   },
   {
    "duration": 17,
    "start_time": "2022-01-14T22:44:57.955Z"
   },
   {
    "duration": 35,
    "start_time": "2022-01-14T22:44:57.974Z"
   },
   {
    "duration": 10,
    "start_time": "2022-01-14T22:44:58.011Z"
   },
   {
    "duration": 4,
    "start_time": "2022-01-14T22:44:58.023Z"
   },
   {
    "duration": 9,
    "start_time": "2022-01-14T22:44:58.028Z"
   },
   {
    "duration": 4,
    "start_time": "2022-01-14T22:44:58.038Z"
   },
   {
    "duration": 527,
    "start_time": "2022-01-17T10:44:30.708Z"
   },
   {
    "duration": 117,
    "start_time": "2022-01-17T10:44:31.237Z"
   },
   {
    "duration": 16,
    "start_time": "2022-01-17T10:44:31.356Z"
   },
   {
    "duration": 22,
    "start_time": "2022-01-17T10:44:31.374Z"
   },
   {
    "duration": 4,
    "start_time": "2022-01-17T10:44:31.398Z"
   },
   {
    "duration": 25,
    "start_time": "2022-01-17T10:44:31.403Z"
   },
   {
    "duration": 6,
    "start_time": "2022-01-17T10:44:31.429Z"
   },
   {
    "duration": 40,
    "start_time": "2022-01-17T10:44:31.436Z"
   },
   {
    "duration": 15,
    "start_time": "2022-01-17T10:44:31.479Z"
   },
   {
    "duration": 23,
    "start_time": "2022-01-17T10:44:31.496Z"
   },
   {
    "duration": 66,
    "start_time": "2022-01-17T10:44:31.521Z"
   },
   {
    "duration": 65,
    "start_time": "2022-01-17T10:44:31.589Z"
   },
   {
    "duration": 58,
    "start_time": "2022-01-17T10:44:31.656Z"
   },
   {
    "duration": 36,
    "start_time": "2022-01-17T10:44:31.716Z"
   },
   {
    "duration": 5,
    "start_time": "2022-01-17T10:44:31.754Z"
   },
   {
    "duration": 18,
    "start_time": "2022-01-17T10:44:31.772Z"
   },
   {
    "duration": 38,
    "start_time": "2022-01-17T10:44:31.792Z"
   },
   {
    "duration": 46,
    "start_time": "2022-01-17T10:44:31.832Z"
   },
   {
    "duration": 29,
    "start_time": "2022-01-17T10:44:31.880Z"
   },
   {
    "duration": 4,
    "start_time": "2022-01-17T10:44:31.911Z"
   },
   {
    "duration": 18,
    "start_time": "2022-01-17T10:44:31.917Z"
   },
   {
    "duration": 38,
    "start_time": "2022-01-17T10:44:31.937Z"
   },
   {
    "duration": 14,
    "start_time": "2022-01-17T10:44:31.977Z"
   },
   {
    "duration": 13,
    "start_time": "2022-01-17T10:44:31.993Z"
   },
   {
    "duration": 16,
    "start_time": "2022-01-17T10:44:32.007Z"
   },
   {
    "duration": 48,
    "start_time": "2022-01-17T10:44:32.024Z"
   },
   {
    "duration": 4,
    "start_time": "2022-01-17T10:44:32.076Z"
   },
   {
    "duration": 35,
    "start_time": "2022-01-17T10:44:32.081Z"
   },
   {
    "duration": 19,
    "start_time": "2022-01-17T10:44:32.118Z"
   },
   {
    "duration": 13,
    "start_time": "2022-01-17T10:44:32.139Z"
   },
   {
    "duration": 43,
    "start_time": "2022-01-17T10:44:32.154Z"
   },
   {
    "duration": 18,
    "start_time": "2022-01-17T10:44:32.198Z"
   },
   {
    "duration": 26,
    "start_time": "2022-01-17T10:44:32.218Z"
   },
   {
    "duration": 11,
    "start_time": "2022-01-17T10:44:32.246Z"
   },
   {
    "duration": 10,
    "start_time": "2022-01-17T10:44:32.259Z"
   },
   {
    "duration": 8,
    "start_time": "2022-01-17T10:44:32.270Z"
   },
   {
    "duration": 14,
    "start_time": "2022-01-17T10:44:32.279Z"
   },
   {
    "duration": 21,
    "start_time": "2022-01-17T10:44:32.294Z"
   },
   {
    "duration": 2,
    "start_time": "2022-01-17T10:44:50.649Z"
   },
   {
    "duration": 128,
    "start_time": "2022-01-17T10:44:50.653Z"
   },
   {
    "duration": 9,
    "start_time": "2022-01-17T10:44:50.783Z"
   },
   {
    "duration": 27,
    "start_time": "2022-01-17T10:44:50.794Z"
   },
   {
    "duration": 3,
    "start_time": "2022-01-17T10:44:50.823Z"
   },
   {
    "duration": 20,
    "start_time": "2022-01-17T10:44:50.828Z"
   },
   {
    "duration": 3,
    "start_time": "2022-01-17T10:44:50.872Z"
   },
   {
    "duration": 21,
    "start_time": "2022-01-17T10:44:50.877Z"
   },
   {
    "duration": 15,
    "start_time": "2022-01-17T10:44:50.900Z"
   },
   {
    "duration": 19,
    "start_time": "2022-01-17T10:44:50.917Z"
   },
   {
    "duration": 79,
    "start_time": "2022-01-17T10:44:50.938Z"
   },
   {
    "duration": 59,
    "start_time": "2022-01-17T10:44:51.018Z"
   },
   {
    "duration": 45,
    "start_time": "2022-01-17T10:44:51.079Z"
   },
   {
    "duration": 49,
    "start_time": "2022-01-17T10:44:51.125Z"
   },
   {
    "duration": 4,
    "start_time": "2022-01-17T10:44:51.176Z"
   },
   {
    "duration": 16,
    "start_time": "2022-01-17T10:44:51.182Z"
   },
   {
    "duration": 37,
    "start_time": "2022-01-17T10:44:51.200Z"
   },
   {
    "duration": 53,
    "start_time": "2022-01-17T10:44:51.239Z"
   },
   {
    "duration": 30,
    "start_time": "2022-01-17T10:44:51.294Z"
   },
   {
    "duration": 3,
    "start_time": "2022-01-17T10:44:51.325Z"
   },
   {
    "duration": 25,
    "start_time": "2022-01-17T10:44:51.330Z"
   },
   {
    "duration": 25,
    "start_time": "2022-01-17T10:44:51.356Z"
   },
   {
    "duration": 31,
    "start_time": "2022-01-17T10:44:51.383Z"
   },
   {
    "duration": 13,
    "start_time": "2022-01-17T10:44:51.416Z"
   },
   {
    "duration": 18,
    "start_time": "2022-01-17T10:44:51.431Z"
   },
   {
    "duration": 21,
    "start_time": "2022-01-17T10:44:51.451Z"
   },
   {
    "duration": 9,
    "start_time": "2022-01-17T10:44:51.475Z"
   },
   {
    "duration": 33,
    "start_time": "2022-01-17T10:44:51.486Z"
   },
   {
    "duration": 13,
    "start_time": "2022-01-17T10:44:51.520Z"
   },
   {
    "duration": 10,
    "start_time": "2022-01-17T10:44:51.534Z"
   },
   {
    "duration": 23,
    "start_time": "2022-01-17T10:44:51.545Z"
   },
   {
    "duration": 11,
    "start_time": "2022-01-17T10:44:51.570Z"
   },
   {
    "duration": 15,
    "start_time": "2022-01-17T10:44:51.583Z"
   },
   {
    "duration": 18,
    "start_time": "2022-01-17T10:44:51.600Z"
   },
   {
    "duration": 11,
    "start_time": "2022-01-17T10:44:51.620Z"
   },
   {
    "duration": 24,
    "start_time": "2022-01-17T10:44:51.632Z"
   },
   {
    "duration": 23,
    "start_time": "2022-01-17T10:44:51.657Z"
   },
   {
    "duration": 13,
    "start_time": "2022-01-17T10:44:51.682Z"
   },
   {
    "duration": 9,
    "start_time": "2022-01-17T10:45:07.249Z"
   },
   {
    "duration": 10,
    "start_time": "2022-01-17T10:46:41.232Z"
   },
   {
    "duration": 13,
    "start_time": "2022-01-17T10:46:54.053Z"
   },
   {
    "duration": 7,
    "start_time": "2022-01-17T10:47:30.085Z"
   },
   {
    "duration": 117,
    "start_time": "2022-01-17T18:45:37.203Z"
   },
   {
    "duration": 148,
    "start_time": "2022-01-17T18:45:49.858Z"
   },
   {
    "duration": 1153,
    "start_time": "2022-06-21T19:18:49.430Z"
   },
   {
    "duration": 386,
    "start_time": "2022-06-21T19:22:02.395Z"
   },
   {
    "duration": 157,
    "start_time": "2022-06-21T19:22:02.783Z"
   },
   {
    "duration": 18,
    "start_time": "2022-06-21T19:22:02.941Z"
   },
   {
    "duration": 24,
    "start_time": "2022-06-21T19:22:02.960Z"
   },
   {
    "duration": 57,
    "start_time": "2022-06-21T19:22:02.987Z"
   },
   {
    "duration": 5,
    "start_time": "2022-06-21T19:22:03.046Z"
   },
   {
    "duration": 20,
    "start_time": "2022-06-21T19:22:03.052Z"
   },
   {
    "duration": 16,
    "start_time": "2022-06-21T19:22:03.074Z"
   },
   {
    "duration": 42,
    "start_time": "2022-06-21T19:22:03.092Z"
   },
   {
    "duration": 24,
    "start_time": "2022-06-21T19:22:03.136Z"
   },
   {
    "duration": 23,
    "start_time": "2022-06-21T19:22:03.162Z"
   },
   {
    "duration": 77,
    "start_time": "2022-06-21T19:22:03.187Z"
   },
   {
    "duration": 86,
    "start_time": "2022-06-21T19:22:03.266Z"
   },
   {
    "duration": 57,
    "start_time": "2022-06-21T19:22:03.356Z"
   },
   {
    "duration": 52,
    "start_time": "2022-06-21T19:22:03.415Z"
   },
   {
    "duration": 4,
    "start_time": "2022-06-21T19:22:03.468Z"
   },
   {
    "duration": 21,
    "start_time": "2022-06-21T19:22:03.473Z"
   },
   {
    "duration": 35,
    "start_time": "2022-06-21T19:22:03.495Z"
   },
   {
    "duration": 49,
    "start_time": "2022-06-21T19:22:03.531Z"
   },
   {
    "duration": 13,
    "start_time": "2022-06-21T19:22:03.581Z"
   },
   {
    "duration": 71,
    "start_time": "2022-06-21T19:22:03.596Z"
   },
   {
    "duration": 17,
    "start_time": "2022-06-21T19:22:03.669Z"
   },
   {
    "duration": 13,
    "start_time": "2022-06-21T19:22:03.688Z"
   },
   {
    "duration": 24,
    "start_time": "2022-06-21T19:22:03.702Z"
   },
   {
    "duration": 33,
    "start_time": "2022-06-21T19:22:03.728Z"
   },
   {
    "duration": 14,
    "start_time": "2022-06-21T19:22:03.763Z"
   },
   {
    "duration": 14,
    "start_time": "2022-06-21T19:22:03.778Z"
   },
   {
    "duration": 21,
    "start_time": "2022-06-21T19:22:03.793Z"
   },
   {
    "duration": 49,
    "start_time": "2022-06-21T19:22:03.816Z"
   },
   {
    "duration": 4,
    "start_time": "2022-06-21T19:22:03.867Z"
   },
   {
    "duration": 13,
    "start_time": "2022-06-21T19:22:03.873Z"
   },
   {
    "duration": 10,
    "start_time": "2022-06-21T19:22:03.888Z"
   },
   {
    "duration": 20,
    "start_time": "2022-06-21T19:22:03.899Z"
   },
   {
    "duration": 33,
    "start_time": "2022-06-21T19:22:03.920Z"
   },
   {
    "duration": 17,
    "start_time": "2022-06-21T19:22:03.955Z"
   },
   {
    "duration": 23,
    "start_time": "2022-06-21T19:22:03.974Z"
   },
   {
    "duration": 11,
    "start_time": "2022-06-21T19:22:03.999Z"
   },
   {
    "duration": 9,
    "start_time": "2022-06-21T19:22:04.011Z"
   },
   {
    "duration": 31,
    "start_time": "2022-06-21T19:22:04.021Z"
   },
   {
    "duration": 10,
    "start_time": "2022-06-21T19:22:04.054Z"
   },
   {
    "duration": 6,
    "start_time": "2022-06-21T19:22:04.068Z"
   },
   {
    "duration": 5,
    "start_time": "2022-06-21T19:22:04.076Z"
   }
  ],
  "colab": {
   "collapsed_sections": [
    "E0vqbgi9ay0H",
    "VUC88oWjTJw2"
   ],
   "name": "yandex_music_project_2021.2.ipynb",
   "provenance": []
  },
  "kernelspec": {
   "display_name": "Python 3 (ipykernel)",
   "language": "python",
   "name": "python3"
  },
  "language_info": {
   "codemirror_mode": {
    "name": "ipython",
    "version": 3
   },
   "file_extension": ".py",
   "mimetype": "text/x-python",
   "name": "python",
   "nbconvert_exporter": "python",
   "pygments_lexer": "ipython3",
   "version": "3.10.2"
  },
  "toc": {
   "base_numbering": 1,
   "nav_menu": {},
   "number_sections": true,
   "sideBar": true,
   "skip_h1_title": true,
   "title_cell": "Table of Contents",
   "title_sidebar": "Contents",
   "toc_cell": false,
   "toc_position": {},
   "toc_section_display": true,
   "toc_window_display": true
  }
 },
 "nbformat": 4,
 "nbformat_minor": 1
}
